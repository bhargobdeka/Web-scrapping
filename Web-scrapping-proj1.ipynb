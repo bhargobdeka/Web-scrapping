{
 "cells": [
  {
   "cell_type": "markdown",
   "metadata": {},
   "source": [
    " \"This is a simple Web scarpping exercise using Beautiful Soup in Python. We will be scrapping data like keywords, tables, photos etc... from a blog.\"\n"
   ]
  },
  {
   "cell_type": "code",
   "execution_count": 129,
   "metadata": {},
   "outputs": [],
   "source": [
    "import requests\n",
    "import re\n",
    "from bs4 import BeautifulSoup as bs"
   ]
  },
  {
   "cell_type": "code",
   "execution_count": 130,
   "metadata": {},
   "outputs": [],
   "source": [
    "## Load the webpage content"
   ]
  },
  {
   "cell_type": "code",
   "execution_count": 131,
   "metadata": {},
   "outputs": [],
   "source": [
    "url = \"https://montrealstartups.ca/five-biggest-montreal-ai-startups/\"\n",
    "r   = requests.get(url)"
   ]
  },
  {
   "cell_type": "code",
   "execution_count": 132,
   "metadata": {},
   "outputs": [],
   "source": [
    "## Creating a BeautifulSoup object"
   ]
  },
  {
   "cell_type": "code",
   "execution_count": null,
   "metadata": {},
   "outputs": [],
   "source": [
    "Soup = bs(r.content)\n",
    "print(Soup.prettify())"
   ]
  },
  {
   "cell_type": "code",
   "execution_count": 134,
   "metadata": {},
   "outputs": [],
   "source": [
    "## Printing the Title"
   ]
  },
  {
   "cell_type": "code",
   "execution_count": 135,
   "metadata": {},
   "outputs": [],
   "source": [
    "Header = Soup.find(\"h1\", attrs={\"class\":\"case27-primary-text\"})\n",
    "Content = []\n",
    "Content = [Header.text.strip()]"
   ]
  },
  {
   "cell_type": "code",
   "execution_count": 136,
   "metadata": {},
   "outputs": [],
   "source": [
    "## Getting the author's name"
   ]
  },
  {
   "cell_type": "code",
   "execution_count": 137,
   "metadata": {},
   "outputs": [],
   "source": [
    "body = Soup.find(\"div\", attrs={\"class\":\"abh_name fn name\"})\n",
    "# Adding to the content list\n",
    "Content += [body.text.strip()]"
   ]
  },
  {
   "cell_type": "code",
   "execution_count": 138,
   "metadata": {},
   "outputs": [],
   "source": [
    "## Getting author's description"
   ]
  },
  {
   "cell_type": "code",
   "execution_count": 118,
   "metadata": {},
   "outputs": [],
   "source": [
    "Describ = Soup.find(\"div\", attrs={\"class\":\"description note abh_description\"})\n",
    "Content += [Describ.text.strip()]"
   ]
  },
  {
   "cell_type": "code",
   "execution_count": 140,
   "metadata": {},
   "outputs": [
    {
     "name": "stdout",
     "output_type": "stream",
     "text": [
      "['5 Biggest Montreal AI Startups', 'Mark Yeramian', 'https://twitter.com/yeramianm']\n"
     ]
    }
   ],
   "source": [
    "links = Soup.select(\"div.abh_social a\")[0]\n",
    "Content += [links['href']]\n",
    "print(Content)"
   ]
  },
  {
   "cell_type": "code",
   "execution_count": 173,
   "metadata": {},
   "outputs": [
    {
     "name": "stdout",
     "output_type": "stream",
     "text": [
      "['Element AI', 'Dialogue', 'Automat', 'Fluent.Ai', 'Keatext']\n"
     ]
    }
   ],
   "source": [
    "startup_list = []\n",
    "paragraphs = Soup.select(\"p>b\")\n",
    "para = [paragraph.text.strip() for paragraph in paragraphs]\n",
    "for s in para:\n",
    "    if s[0].isdigit():\n",
    "        result = ''.join([i for i in s if not i.isdigit()])\n",
    "        startup_list.append(result[2:len(result)])\n",
    "print(startup_list)    "
   ]
  },
  {
   "cell_type": "code",
   "execution_count": null,
   "metadata": {},
   "outputs": [],
   "source": []
  }
 ],
 "metadata": {
  "kernelspec": {
   "display_name": "Python 3",
   "language": "python",
   "name": "python3"
  },
  "language_info": {
   "codemirror_mode": {
    "name": "ipython",
    "version": 3
   },
   "file_extension": ".py",
   "mimetype": "text/x-python",
   "name": "python",
   "nbconvert_exporter": "python",
   "pygments_lexer": "ipython3",
   "version": "3.7.6"
  }
 },
 "nbformat": 4,
 "nbformat_minor": 4
}
